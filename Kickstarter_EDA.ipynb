{
 "cells": [
  {
   "cell_type": "code",
   "execution_count": 1,
   "metadata": {
    "colab": {
     "base_uri": "https://localhost:8080/",
     "height": 35
    },
    "id": "icYGYXF4PoZp",
    "outputId": "47cb2af6-3cab-489a-9b7c-32534cf54eb8"
   },
   "outputs": [
    {
     "data": {
      "text/plain": [
       "'\\nThe dataset can be found here:\\nhttps://webrobots.io/kickstarter-datasets/\\nhttps://s3.amazonaws.com/weruns/forfun/Kickstarter/Kickstarter_2021-06-17T03_20_03_179Z.zip\\n'"
      ]
     },
     "execution_count": 1,
     "metadata": {},
     "output_type": "execute_result"
    }
   ],
   "source": [
    "import pandas as pd\n",
    "import sys\n",
    "# from google.colab import files\n",
    "# import io \n",
    "import re\n",
    "import datetime\n",
    "import ast\n",
    "\n",
    "from sklearn.model_selection import train_test_split\n",
    "\n",
    "df = pd.read_csv(\"Kickstarter.csv\")\n",
    "\n",
    "\"\"\"\n",
    "The dataset can be found here:\n",
    "https://webrobots.io/kickstarter-datasets/\n",
    "https://s3.amazonaws.com/weruns/forfun/Kickstarter/Kickstarter_2021-06-17T03_20_03_179Z.zip\n",
    "\"\"\""
   ]
  },
  {
   "cell_type": "code",
   "execution_count": 2,
   "metadata": {
    "id": "QHXaTLJbZXZs"
   },
   "outputs": [],
   "source": [
    "df = df.drop(columns=[\"currency_symbol\",\n",
    "                 \"country_displayable_name\",\n",
    "                 \"created_at\",\n",
    "                 \"creator\",\n",
    "                 \"country\",\n",
    "                 \"urls\",\n",
    "                 \"currency_trailing_code\",\n",
    "                 \"friends\",\n",
    "                 \"fx_rate\",\n",
    "                 \"id\",\n",
    "                 \"is_starred\",\n",
    "                 \"name\",\n",
    "                 \"permissions\"], axis = 1)"
   ]
  },
  {
   "cell_type": "code",
   "execution_count": 9,
   "metadata": {
    "colab": {
     "base_uri": "https://localhost:8080/",
     "height": 400
    },
    "id": "QITHKpKBUZ1b",
    "outputId": "dcd937fa-d879-4e99-d0b4-30dc8fcda1dd"
   },
   "outputs": [
    {
     "data": {
      "text/html": [
       "<div>\n",
       "<style scoped>\n",
       "    .dataframe tbody tr th:only-of-type {\n",
       "        vertical-align: middle;\n",
       "    }\n",
       "\n",
       "    .dataframe tbody tr th {\n",
       "        vertical-align: top;\n",
       "    }\n",
       "\n",
       "    .dataframe thead th {\n",
       "        text-align: right;\n",
       "    }\n",
       "</style>\n",
       "<table border=\"1\" class=\"dataframe\">\n",
       "  <thead>\n",
       "    <tr style=\"text-align: right;\">\n",
       "      <th></th>\n",
       "      <th>backers_count</th>\n",
       "      <th>blurb</th>\n",
       "      <th>category</th>\n",
       "      <th>converted_pledged_amount</th>\n",
       "      <th>currency</th>\n",
       "      <th>current_currency</th>\n",
       "      <th>deadline</th>\n",
       "      <th>disable_communication</th>\n",
       "      <th>goal</th>\n",
       "      <th>is_backing</th>\n",
       "      <th>...</th>\n",
       "      <th>slug</th>\n",
       "      <th>source_url</th>\n",
       "      <th>spotlight</th>\n",
       "      <th>staff_pick</th>\n",
       "      <th>state</th>\n",
       "      <th>state_changed_at</th>\n",
       "      <th>static_usd_rate</th>\n",
       "      <th>usd_exchange_rate</th>\n",
       "      <th>usd_pledged</th>\n",
       "      <th>usd_type</th>\n",
       "    </tr>\n",
       "  </thead>\n",
       "  <tbody>\n",
       "    <tr>\n",
       "      <th>0</th>\n",
       "      <td>65</td>\n",
       "      <td>A super-cheeky strategy card game that's full ...</td>\n",
       "      <td>{\"id\":34,\"name\":\"Tabletop Games\",\"analytics_na...</td>\n",
       "      <td>2856</td>\n",
       "      <td>AUD</td>\n",
       "      <td>USD</td>\n",
       "      <td>1626228004</td>\n",
       "      <td>False</td>\n",
       "      <td>15000.0</td>\n",
       "      <td>NaN</td>\n",
       "      <td>...</td>\n",
       "      <td>zaka</td>\n",
       "      <td>https://www.kickstarter.com/discover/categorie...</td>\n",
       "      <td>False</td>\n",
       "      <td>False</td>\n",
       "      <td>live</td>\n",
       "      <td>1623636005</td>\n",
       "      <td>0.770798</td>\n",
       "      <td>0.762655</td>\n",
       "      <td>2886.886851</td>\n",
       "      <td>international</td>\n",
       "    </tr>\n",
       "    <tr>\n",
       "      <th>1</th>\n",
       "      <td>146</td>\n",
       "      <td>Help us finish a feature film about two strang...</td>\n",
       "      <td>{\"id\":31,\"name\":\"Narrative Film\",\"analytics_na...</td>\n",
       "      <td>10120</td>\n",
       "      <td>USD</td>\n",
       "      <td>USD</td>\n",
       "      <td>1333349940</td>\n",
       "      <td>False</td>\n",
       "      <td>10000.0</td>\n",
       "      <td>NaN</td>\n",
       "      <td>...</td>\n",
       "      <td>help-us-finish-elevator-a-feature-length-film</td>\n",
       "      <td>https://www.kickstarter.com/discover/categorie...</td>\n",
       "      <td>True</td>\n",
       "      <td>False</td>\n",
       "      <td>successful</td>\n",
       "      <td>1333349940</td>\n",
       "      <td>1.000000</td>\n",
       "      <td>1.000000</td>\n",
       "      <td>10120.000000</td>\n",
       "      <td>international</td>\n",
       "    </tr>\n",
       "    <tr>\n",
       "      <th>2</th>\n",
       "      <td>41</td>\n",
       "      <td>Considered playfully mischievous and outlaws i...</td>\n",
       "      <td>{\"id\":254,\"name\":\"Performances\",\"analytics_nam...</td>\n",
       "      <td>3785</td>\n",
       "      <td>USD</td>\n",
       "      <td>USD</td>\n",
       "      <td>1455388491</td>\n",
       "      <td>False</td>\n",
       "      <td>3000.0</td>\n",
       "      <td>NaN</td>\n",
       "      <td>...</td>\n",
       "      <td>phase</td>\n",
       "      <td>https://www.kickstarter.com/discover/categorie...</td>\n",
       "      <td>True</td>\n",
       "      <td>False</td>\n",
       "      <td>successful</td>\n",
       "      <td>1455388491</td>\n",
       "      <td>1.000000</td>\n",
       "      <td>1.000000</td>\n",
       "      <td>3785.000000</td>\n",
       "      <td>international</td>\n",
       "    </tr>\n",
       "  </tbody>\n",
       "</table>\n",
       "<p>3 rows × 26 columns</p>\n",
       "</div>"
      ],
      "text/plain": [
       "   backers_count                                              blurb  \\\n",
       "0             65  A super-cheeky strategy card game that's full ...   \n",
       "1            146  Help us finish a feature film about two strang...   \n",
       "2             41  Considered playfully mischievous and outlaws i...   \n",
       "\n",
       "                                            category  \\\n",
       "0  {\"id\":34,\"name\":\"Tabletop Games\",\"analytics_na...   \n",
       "1  {\"id\":31,\"name\":\"Narrative Film\",\"analytics_na...   \n",
       "2  {\"id\":254,\"name\":\"Performances\",\"analytics_nam...   \n",
       "\n",
       "   converted_pledged_amount currency current_currency    deadline  \\\n",
       "0                      2856      AUD              USD  1626228004   \n",
       "1                     10120      USD              USD  1333349940   \n",
       "2                      3785      USD              USD  1455388491   \n",
       "\n",
       "   disable_communication     goal is_backing  ...  \\\n",
       "0                  False  15000.0        NaN  ...   \n",
       "1                  False  10000.0        NaN  ...   \n",
       "2                  False   3000.0        NaN  ...   \n",
       "\n",
       "                                            slug  \\\n",
       "0                                           zaka   \n",
       "1  help-us-finish-elevator-a-feature-length-film   \n",
       "2                                          phase   \n",
       "\n",
       "                                          source_url spotlight staff_pick  \\\n",
       "0  https://www.kickstarter.com/discover/categorie...     False      False   \n",
       "1  https://www.kickstarter.com/discover/categorie...      True      False   \n",
       "2  https://www.kickstarter.com/discover/categorie...      True      False   \n",
       "\n",
       "        state state_changed_at static_usd_rate usd_exchange_rate  \\\n",
       "0        live       1623636005        0.770798          0.762655   \n",
       "1  successful       1333349940        1.000000          1.000000   \n",
       "2  successful       1455388491        1.000000          1.000000   \n",
       "\n",
       "    usd_pledged       usd_type  \n",
       "0   2886.886851  international  \n",
       "1  10120.000000  international  \n",
       "2   3785.000000  international  \n",
       "\n",
       "[3 rows x 26 columns]"
      ]
     },
     "execution_count": 9,
     "metadata": {},
     "output_type": "execute_result"
    }
   ],
   "source": [
    "df.head(3)"
   ]
  },
  {
   "cell_type": "markdown",
   "metadata": {
    "id": "jTVsN6ZQViwt"
   },
   "source": [
    "Do we want to combine find the length of the campaign from (created at and deadline) to see if there is value there. \n",
    "\n",
    "keep location, clean and ckeep city name\n",
    "\n"
   ]
  },
  {
   "cell_type": "code",
   "execution_count": 10,
   "metadata": {
    "id": "Yu1Y5CaQSpJ8"
   },
   "outputs": [],
   "source": [
    "def clean_data(text):\n",
    "    email_regex = r\"\\S*@\\S*\\s?\"\n",
    "    non_alpha = \"[^a-zA-Z0-9 ]\"\n",
    "    multi_white_spaces = \"[ ]{2,}\"\n",
    "    text = re.sub(email_regex, \"\", text)\n",
    "    text = re.sub(non_alpha, \"\", text)\n",
    "    text = re.sub(multi_white_spaces, \"\", text)\n",
    "    return text.lower().lstrip().rstrip()"
   ]
  },
  {
   "cell_type": "markdown",
   "metadata": {
    "id": "XjRPDmIsQB-M"
   },
   "source": [
    "# Load The Dataset"
   ]
  },
  {
   "cell_type": "code",
   "execution_count": 5,
   "metadata": {
    "id": "TzIPTv0nQD4G"
   },
   "outputs": [],
   "source": [
    "# file_path = 'Downloads/Kickstarter_2021-06-17T03_20_03_179Z/Kickstarter001.csv'\n",
    "file_path = \"Kickstarter.csv\"\n",
    "# file_path_small_test = 'small_file.csv'\n",
    "\n",
    "\n",
    "def clean_data(file_path):\n",
    "    df = pd.read_csv(file_path)\n",
    "    \n",
    "    def change_to_time_series(item):\n",
    "        item = datetime.datetime.fromtimestamp(item)\n",
    "        return item\n",
    "    \n",
    "    # change the 'created-at', 'deadline', 'state_changed_at' columns\n",
    "    # to time series columns\n",
    "    time_series_columns = ['created_at', 'deadline', 'state_changed_at', 'launched_at']\n",
    "    for column in time_series_columns:\n",
    "        df[column] = df[column].apply(change_to_time_series)\n",
    "    \n",
    "    # dropping columns with all null values\n",
    "    # for reference these the column names:\n",
    "    # ['friends', 'is_backing', 'is_starred', 'permissions']\n",
    "    all_null_columns = df.isnull().sum() == len(df)\n",
    "#     to_drop = all_null_columns[all_null_columns == True].index\n",
    "    to_drop = ['friends', 'is_backing', 'is_starred', 'permissions']\n",
    "    df = df.drop(columns=to_drop, axis=1)\n",
    "    \n",
    "    df = df.drop(columns=[\"currency_symbol\",\n",
    "                          \"country_displayable_name\",\n",
    "                          \"creator\",\n",
    "                          \"country\",\n",
    "                          \"urls\",\n",
    "                          \"source_url\",\n",
    "                          \"currency_trailing_code\",\n",
    "                          \"fx_rate\",\n",
    "                          \"id\",\n",
    "                          \"name\",\n",
    "                          \"disable_communication\",\n",
    "                          \"photo\", # has url for photos might be useful later \n",
    "                          \"usd_type\", \n",
    "                          'converted_pledged_amount',\n",
    "                          'pledged',\n",
    "                          'usd_exchange_rate',\n",
    "                          'static_usd_rate',\n",
    "                          'currency', # dropping due to have pledged in USD\n",
    "                          'current_currency'  # dropping due to have pledged in USD\n",
    "                         ], axis=1)\n",
    "    \n",
    "    def extract_dictionary_info(item):\n",
    "        \"\"\" Use the apply method with the column name.\n",
    "        Takes in dictionary in string form,\n",
    "        converts it into a dictionary, and\n",
    "        returns info_type requested in a new column.\n",
    "        \"\"\"\n",
    "        my_dic = ast.literal_eval(item)\n",
    "        return my_dic\n",
    "\n",
    "    category_df = df['category'].apply(extract_dictionary_info).apply(pd.Series)\n",
    "    category_df['parent_name'].loc[(category_df.parent_name.isnull() == True)& (category_df['name'] == 'Dance')] = 'Dance'\n",
    "    category_df['parent_name'].loc[(category_df.parent_name.isnull() == True)& (category_df['name'] == 'Photography')] = 'Photography'\n",
    "    category_df['parent_name'].loc[(category_df.parent_name.isnull() == True)& (category_df['name'] == 'Games')] = 'Games'\n",
    "    \n",
    "    df['category_2'] = category_df.parent_name\n",
    "    df.drop(columns='category', inplace=True)\n",
    "    # still need to remove the Nan's into the missing categories:\n",
    "    # categories are 'Dance', 'Games', 'Photography'\n",
    "    # taken from the 'name' in category\n",
    "    \n",
    "    # columns I can't get to work\n",
    "    # in dictionary format need to work on OR text data\n",
    "    # text_data need to vectorize: 'blurb\n",
    "    drop_for_now = ['blurb', 'location', 'profile', 'slug']\n",
    "    df.drop(columns=drop_for_now, inplace=True)\n",
    "    \n",
    "    \n",
    "    # creating our target variable, we had the four sub-categories:\n",
    "    # successful, failed, canceled, live\n",
    "    # turn it into a binary variable\n",
    "    df['target'] = 0\n",
    "    df['target'].loc[df.state == 'successful'] = 1\n",
    "    df.drop(columns='state', inplace=True)\n",
    "    \n",
    "    # changing boolean to integers\n",
    "    df['spotlight_2'] = 0\n",
    "    df['spotlight_2'].loc[df.spotlight == True] = 1\n",
    "\n",
    "    df['staff_pick_2'] = 0\n",
    "    df['staff_pick_2'].loc[df.staff_pick == True] = 1\n",
    "\n",
    "    df['is_starrable_2'] = 0\n",
    "    df['is_starrable_2'].loc[df.is_starrable == True] = 1\n",
    "    df.drop(columns=['spotlight', 'staff_pick', 'is_starrable'],\n",
    "           inplace=True)\n",
    "    \n",
    "    # removing the launched_at and state_changed_at time series columns\n",
    "    # add at your discretion\n",
    "    time_series = ['launched_at', 'state_changed_at']\n",
    "    df.drop(columns=time_series, inplace=True)\n",
    "    \n",
    "    \n",
    "    return df"
   ]
  },
  {
   "cell_type": "code",
   "execution_count": 6,
   "metadata": {
    "colab": {
     "base_uri": "https://localhost:8080/",
     "height": 667
    },
    "id": "up6Gp1DNlSbf",
    "outputId": "3590996f-1970-4555-f070-557653e283f6"
   },
   "outputs": [
    {
     "name": "stderr",
     "output_type": "stream",
     "text": [
      "/Library/Frameworks/Python.framework/Versions/3.9/lib/python3.9/site-packages/pandas/core/indexing.py:1637: SettingWithCopyWarning: \n",
      "A value is trying to be set on a copy of a slice from a DataFrame\n",
      "\n",
      "See the caveats in the documentation: https://pandas.pydata.org/pandas-docs/stable/user_guide/indexing.html#returning-a-view-versus-a-copy\n",
      "  self._setitem_single_block(indexer, value, name)\n",
      "/Library/Frameworks/Python.framework/Versions/3.9/lib/python3.9/site-packages/pandas/core/indexing.py:1637: SettingWithCopyWarning: \n",
      "A value is trying to be set on a copy of a slice from a DataFrame\n",
      "\n",
      "See the caveats in the documentation: https://pandas.pydata.org/pandas-docs/stable/user_guide/indexing.html#returning-a-view-versus-a-copy\n",
      "  self._setitem_single_block(indexer, value, name)\n",
      "/Library/Frameworks/Python.framework/Versions/3.9/lib/python3.9/site-packages/pandas/core/indexing.py:1637: SettingWithCopyWarning: \n",
      "A value is trying to be set on a copy of a slice from a DataFrame\n",
      "\n",
      "See the caveats in the documentation: https://pandas.pydata.org/pandas-docs/stable/user_guide/indexing.html#returning-a-view-versus-a-copy\n",
      "  self._setitem_single_block(indexer, value, name)\n",
      "/Library/Frameworks/Python.framework/Versions/3.9/lib/python3.9/site-packages/pandas/core/indexing.py:1637: SettingWithCopyWarning: \n",
      "A value is trying to be set on a copy of a slice from a DataFrame\n",
      "\n",
      "See the caveats in the documentation: https://pandas.pydata.org/pandas-docs/stable/user_guide/indexing.html#returning-a-view-versus-a-copy\n",
      "  self._setitem_single_block(indexer, value, name)\n",
      "/Library/Frameworks/Python.framework/Versions/3.9/lib/python3.9/site-packages/pandas/core/indexing.py:1637: SettingWithCopyWarning: \n",
      "A value is trying to be set on a copy of a slice from a DataFrame\n",
      "\n",
      "See the caveats in the documentation: https://pandas.pydata.org/pandas-docs/stable/user_guide/indexing.html#returning-a-view-versus-a-copy\n",
      "  self._setitem_single_block(indexer, value, name)\n",
      "/Library/Frameworks/Python.framework/Versions/3.9/lib/python3.9/site-packages/pandas/core/indexing.py:1637: SettingWithCopyWarning: \n",
      "A value is trying to be set on a copy of a slice from a DataFrame\n",
      "\n",
      "See the caveats in the documentation: https://pandas.pydata.org/pandas-docs/stable/user_guide/indexing.html#returning-a-view-versus-a-copy\n",
      "  self._setitem_single_block(indexer, value, name)\n"
     ]
    },
    {
     "data": {
      "text/html": [
       "<div>\n",
       "<style scoped>\n",
       "    .dataframe tbody tr th:only-of-type {\n",
       "        vertical-align: middle;\n",
       "    }\n",
       "\n",
       "    .dataframe tbody tr th {\n",
       "        vertical-align: top;\n",
       "    }\n",
       "\n",
       "    .dataframe thead th {\n",
       "        text-align: right;\n",
       "    }\n",
       "</style>\n",
       "<table border=\"1\" class=\"dataframe\">\n",
       "  <thead>\n",
       "    <tr style=\"text-align: right;\">\n",
       "      <th></th>\n",
       "      <th>backers_count</th>\n",
       "      <th>created_at</th>\n",
       "      <th>deadline</th>\n",
       "      <th>goal</th>\n",
       "      <th>usd_pledged</th>\n",
       "      <th>category_2</th>\n",
       "      <th>target</th>\n",
       "      <th>spotlight_2</th>\n",
       "      <th>staff_pick_2</th>\n",
       "      <th>is_starrable_2</th>\n",
       "    </tr>\n",
       "  </thead>\n",
       "  <tbody>\n",
       "    <tr>\n",
       "      <th>0</th>\n",
       "      <td>65</td>\n",
       "      <td>2021-05-20 18:00:51</td>\n",
       "      <td>2021-07-13 19:00:04</td>\n",
       "      <td>15000.0</td>\n",
       "      <td>2886.886851</td>\n",
       "      <td>Games</td>\n",
       "      <td>0</td>\n",
       "      <td>0</td>\n",
       "      <td>0</td>\n",
       "      <td>1</td>\n",
       "    </tr>\n",
       "    <tr>\n",
       "      <th>1</th>\n",
       "      <td>146</td>\n",
       "      <td>2012-01-26 11:20:01</td>\n",
       "      <td>2012-04-01 23:59:00</td>\n",
       "      <td>10000.0</td>\n",
       "      <td>10120.000000</td>\n",
       "      <td>Film &amp; Video</td>\n",
       "      <td>1</td>\n",
       "      <td>1</td>\n",
       "      <td>0</td>\n",
       "      <td>0</td>\n",
       "    </tr>\n",
       "    <tr>\n",
       "      <th>2</th>\n",
       "      <td>41</td>\n",
       "      <td>2015-11-13 14:04:33</td>\n",
       "      <td>2016-02-13 11:34:51</td>\n",
       "      <td>3000.0</td>\n",
       "      <td>3785.000000</td>\n",
       "      <td>Dance</td>\n",
       "      <td>1</td>\n",
       "      <td>1</td>\n",
       "      <td>0</td>\n",
       "      <td>0</td>\n",
       "    </tr>\n",
       "  </tbody>\n",
       "</table>\n",
       "</div>"
      ],
      "text/plain": [
       "   backers_count          created_at            deadline     goal  \\\n",
       "0             65 2021-05-20 18:00:51 2021-07-13 19:00:04  15000.0   \n",
       "1            146 2012-01-26 11:20:01 2012-04-01 23:59:00  10000.0   \n",
       "2             41 2015-11-13 14:04:33 2016-02-13 11:34:51   3000.0   \n",
       "\n",
       "    usd_pledged    category_2  target  spotlight_2  staff_pick_2  \\\n",
       "0   2886.886851         Games       0            0             0   \n",
       "1  10120.000000  Film & Video       1            1             0   \n",
       "2   3785.000000         Dance       1            1             0   \n",
       "\n",
       "   is_starrable_2  \n",
       "0               1  \n",
       "1               0  \n",
       "2               0  "
      ]
     },
     "execution_count": 6,
     "metadata": {},
     "output_type": "execute_result"
    }
   ],
   "source": [
    "# Reading in the data and passing through the cleaning function\n",
    "df = clean_data(file_path)\n",
    "# df = clean_data(file_path_small_test)\n",
    "df.head(3)\n"
   ]
  },
  {
   "cell_type": "code",
   "execution_count": 13,
   "metadata": {
    "colab": {
     "base_uri": "https://localhost:8080/"
    },
    "id": "e4cw4lwL5ekV",
    "outputId": "8931abb1-0b73-4349-b3a0-4f36311f4a14"
   },
   "outputs": [
    {
     "name": "stdout",
     "output_type": "stream",
     "text": [
      "<class 'pandas.core.frame.DataFrame'>\n",
      "RangeIndex: 3662 entries, 0 to 3661\n",
      "Data columns (total 14 columns):\n",
      " #   Column          Non-Null Count  Dtype         \n",
      "---  ------          --------------  -----         \n",
      " 0   backers_count   3662 non-null   int64         \n",
      " 1   created_at      3662 non-null   datetime64[ns]\n",
      " 2   deadline        3662 non-null   datetime64[ns]\n",
      " 3   friends         5 non-null      object        \n",
      " 4   goal            3662 non-null   float64       \n",
      " 5   is_backing      5 non-null      object        \n",
      " 6   is_starred      5 non-null      object        \n",
      " 7   permissions     5 non-null      object        \n",
      " 8   usd_pledged     3662 non-null   float64       \n",
      " 9   category_2      3662 non-null   object        \n",
      " 10  target          3662 non-null   int64         \n",
      " 11  spotlight_2     3662 non-null   int64         \n",
      " 12  staff_pick_2    3662 non-null   int64         \n",
      " 13  is_starrable_2  3662 non-null   int64         \n",
      "dtypes: datetime64[ns](2), float64(2), int64(5), object(5)\n",
      "memory usage: 400.7+ KB\n"
     ]
    }
   ],
   "source": [
    "df.info()"
   ]
  },
  {
   "cell_type": "code",
   "execution_count": 14,
   "metadata": {
    "colab": {
     "base_uri": "https://localhost:8080/"
    },
    "id": "flcCYgX1D87n",
    "outputId": "0c463f9c-c059-4fc3-c9e7-4b0966027d88"
   },
   "outputs": [
    {
     "data": {
      "text/plain": [
       "Film & Video    1115\n",
       "Dance           1109\n",
       "Games            873\n",
       "Fashion          565\n",
       "Name: category_2, dtype: int64"
      ]
     },
     "execution_count": 14,
     "metadata": {},
     "output_type": "execute_result"
    }
   ],
   "source": [
    "# Encode these later for optimization\n",
    "df[\"category_2\"].value_counts()"
   ]
  },
  {
   "cell_type": "code",
   "execution_count": 15,
   "metadata": {
    "id": "l-ZkpXt3Bwlw"
   },
   "outputs": [],
   "source": [
    "# Drop all columns except these\n",
    "# we will clean this up Tuesday\n",
    "df = df.drop(df.columns.difference([\"goal\", \"usd_pledged\", \"target\", \"is_starrable_2\", \"staff_pick_2\",\n",
    "                                    \"spotlight_2\",\"backers_count\"]), axis = 1)"
   ]
  },
  {
   "cell_type": "markdown",
   "metadata": {
    "id": "KF0vaA-RJv_f"
   },
   "source": [
    "# Split the Data"
   ]
  },
  {
   "cell_type": "code",
   "execution_count": 16,
   "metadata": {
    "id": "7UmTtGbxg08v"
   },
   "outputs": [],
   "source": [
    "# Split the data to avoid leakage\n",
    "x = df.drop(columns='target')\n",
    "y = df['target']"
   ]
  },
  {
   "cell_type": "code",
   "execution_count": 17,
   "metadata": {
    "colab": {
     "base_uri": "https://localhost:8080/"
    },
    "id": "FyOxMKfPhKMP",
    "outputId": "3ed5e817-7aa6-4b67-a621-e97a2eef56e8"
   },
   "outputs": [
    {
     "name": "stdout",
     "output_type": "stream",
     "text": [
      "x_train: 3295\n",
      "x_val: 367\n",
      "y_train: (3295,)\n",
      "y_val: (367,)\n"
     ]
    }
   ],
   "source": [
    "# Create a training and validation set\n",
    "# Smaller test size is acceptable due to the amount of data available\n",
    "X_train, X_val, y_train, y_val = train_test_split(x, y, test_size=.1, random_state=42)\n",
    "\n",
    "print('x_train:', len(X_train))\n",
    "print('x_val:', len(X_val))\n",
    "print('y_train:',y_train.shape)\n",
    "print('y_val:', y_val.shape)"
   ]
  },
  {
   "cell_type": "markdown",
   "metadata": {
    "id": "_Nig3MQQ50lq"
   },
   "source": [
    "# Explore Models"
   ]
  },
  {
   "cell_type": "code",
   "execution_count": 18,
   "metadata": {
    "id": "xVyAyWdY6eXN"
   },
   "outputs": [],
   "source": [
    "from tensorflow.keras import Sequential\n",
    "from tensorflow.keras.layers import Dense, ReLU\n",
    "from tensorflow.keras.callbacks import TensorBoard\n",
    "\n",
    "from sklearn.model_selection import GridSearchCV\n",
    "from tensorflow.keras.models import Sequential\n",
    "from tensorflow.keras.layers import Dense\n",
    "\n",
    "# required for compatibility bewteen sklearn and keras\n",
    "from tensorflow.keras.wrappers.scikit_learn import KerasClassifier"
   ]
  },
  {
   "cell_type": "code",
   "execution_count": 19,
   "metadata": {
    "id": "a3dwFJZ-6Hp2"
   },
   "outputs": [
    {
     "data": {
      "text/plain": [
       "6"
      ]
     },
     "execution_count": 19,
     "metadata": {},
     "output_type": "execute_result"
    }
   ],
   "source": [
    "# Define input dimensions to avoid hidden layer issues\n",
    "input_dims = X_train.shape[1]\n",
    "input_dims"
   ]
  },
  {
   "cell_type": "markdown",
   "metadata": {
    "id": "Cl3S1NVq8gQo"
   },
   "source": [
    "## Create Model Function ##\n",
    "This function should help you save time on creating more models."
   ]
  },
  {
   "cell_type": "code",
   "execution_count": 20,
   "metadata": {
    "id": "fLuqTrOY7zce"
   },
   "outputs": [],
   "source": [
    "# Function to create model, required for KerasClassifier\n",
    "def create_model(units = 128, optimizer = \"adam\", activation = \"sigmoid\"):\n",
    "    \"\"\"\"\n",
    "    Returns a complied keras model \n",
    "    \n",
    "    Parameters\n",
    "    ----------\n",
    "    units: int \n",
    "        number of neruons/nodes/units to use in each hidden layer\n",
    "        \n",
    "    Returns\n",
    "    -------\n",
    "    model: keras object \n",
    "    \"\"\"\n",
    "\n",
    "    model = Sequential()\n",
    "    model.add(Dense(units = 64, input_dim = input_dims, activation = activation))\n",
    "    model.add(Dense(units = 32, activation = activation))\n",
    "    model.add(Dense(units = 10, activation = activation))   \n",
    "    model.add(Dense(1, activation=\"sigmoid\")) # USE SIGMOID FOR BINARY CLASSIFICATION\n",
    "    model.compile(loss=\"binary_crossentropy\",\n",
    "                    optimizer = \"adam\",\n",
    "                    metrics=[\"accuracy\"])\n",
    "    return model"
   ]
  },
  {
   "cell_type": "code",
   "execution_count": 21,
   "metadata": {
    "id": "d0QkGvHp5ghF"
   },
   "outputs": [],
   "source": [
    "# Instantiate a base model for grid search\n",
    "base_model = KerasClassifier(build_fn = create_model)"
   ]
  },
  {
   "cell_type": "markdown",
   "metadata": {
    "id": "8ZUrJjdY9h5f"
   },
   "source": [
    "## Perform a Grid Search To Optimize Our Model ##"
   ]
  },
  {
   "cell_type": "code",
   "execution_count": 22,
   "metadata": {
    "id": "vJ8zWJoB7PA9"
   },
   "outputs": [],
   "source": [
    "# define the grid search parameters\n",
    "param_grid = {'batch_size': [32],\n",
    "              'epochs': [3],\n",
    "              'units':[32, 64]}"
   ]
  },
  {
   "cell_type": "code",
   "execution_count": 23,
   "metadata": {
    "colab": {
     "base_uri": "https://localhost:8080/"
    },
    "id": "4dzihfCv-IRC",
    "outputId": "b98811cf-61b4-4dc2-80d8-4521bb3658d6"
   },
   "outputs": [
    {
     "name": "stdout",
     "output_type": "stream",
     "text": [
      "Fitting 3 folds for each of 2 candidates, totalling 6 fits\n",
      "Epoch 1/3\n",
      "103/103 [==============================] - 1s 875us/step - loss: 0.5599 - accuracy: 0.6938\n",
      "Epoch 2/3\n",
      "103/103 [==============================] - 0s 775us/step - loss: 0.3499 - accuracy: 0.8971\n",
      "Epoch 3/3\n",
      "103/103 [==============================] - 0s 784us/step - loss: 0.2452 - accuracy: 0.9551\n",
      "Best: 0.9566023747126261 using {'batch_size': 32, 'epochs': 3, 'units': 64}\n",
      "Means: 0.9556916356086731, Stdev: 0.004344004127878566 with: {'batch_size': 32, 'epochs': 3, 'units': 32}\n",
      "Means: 0.9566023747126261, Stdev: 0.005047693096155494 with: {'batch_size': 32, 'epochs': 3, 'units': 64}\n"
     ]
    }
   ],
   "source": [
    "# Create Grid Search\n",
    "grid = GridSearchCV(estimator = base_model,\n",
    "                    param_grid = param_grid, \n",
    "                    n_jobs=-2, \n",
    "                    verbose=1, \n",
    "                    cv=3)\n",
    "grid_result = grid.fit(X_train, y_train)\n",
    "\n",
    "# Report Results\n",
    "print(f\"Best: {grid_result.best_score_} using {grid_result.best_params_}\")\n",
    "means = grid_result.cv_results_['mean_test_score']\n",
    "stds = grid_result.cv_results_['std_test_score']\n",
    "params = grid_result.cv_results_['params']\n",
    "for mean, stdev, param in zip(means, stds, params):\n",
    "    print(f\"Means: {mean}, Stdev: {stdev} with: {param}\")"
   ]
  },
  {
   "cell_type": "code",
   "execution_count": 24,
   "metadata": {
    "colab": {
     "base_uri": "https://localhost:8080/"
    },
    "id": "u8gyYa85EZJe",
    "outputId": "f8515294-13cc-4c34-aa77-ba9f5a740c86"
   },
   "outputs": [
    {
     "data": {
      "text/plain": [
       "{'batch_size': 32,\n",
       " 'epochs': 3,\n",
       " 'units': 64,\n",
       " 'build_fn': <function __main__.create_model(units=128, optimizer='adam', activation='sigmoid')>}"
      ]
     },
     "execution_count": 24,
     "metadata": {},
     "output_type": "execute_result"
    }
   ],
   "source": [
    "# Assign the best model \n",
    "best_model = grid_result.best_estimator_\n",
    "# Confirm the models params\n",
    "best_model.get_params()"
   ]
  },
  {
   "cell_type": "code",
   "execution_count": 25,
   "metadata": {
    "colab": {
     "base_uri": "https://localhost:8080/"
    },
    "id": "YKxyUtjOGg7-",
    "outputId": "4989c4a7-beb4-4ef3-f656-2487c24463a8"
   },
   "outputs": [
    {
     "name": "stdout",
     "output_type": "stream",
     "text": [
      "Epoch 1/3\n",
      "103/103 - 1s - loss: 0.6370 - accuracy: 0.6795 - val_loss: 0.4766 - val_accuracy: 0.9537\n",
      "Epoch 2/3\n",
      "103/103 - 0s - loss: 0.3664 - accuracy: 0.9514 - val_loss: 0.2799 - val_accuracy: 0.9591\n",
      "Epoch 3/3\n",
      "103/103 - 0s - loss: 0.2501 - accuracy: 0.9554 - val_loss: 0.2231 - val_accuracy: 0.9591\n"
     ]
    },
    {
     "data": {
      "text/plain": [
       "<tensorflow.python.keras.callbacks.History at 0x15c3a1f18b0>"
      ]
     },
     "execution_count": 25,
     "metadata": {},
     "output_type": "execute_result"
    }
   ],
   "source": [
    "    # Create a new model based on our best parameters\n",
    "    base_model = Sequential()\n",
    "    base_model.add(Dense(units = 64, input_dim = input_dims, activation = \"sigmoid\"))\n",
    "    base_model.add(Dense(units = 32, activation = \"sigmoid\"))\n",
    "    base_model.add(Dense(units = 10, activation = \"sigmoid\"))   \n",
    "    base_model.add(Dense(1, activation=\"sigmoid\"))\n",
    "\n",
    "    base_model.compile(loss='binary_crossentropy', optimizer='adam', metrics=['accuracy'])\n",
    "    base_model.fit(X_train,\n",
    "              y_train,\n",
    "              epochs=3, \n",
    "              validation_data = (X_val,y_val),\n",
    "              verbose=2)"
   ]
  },
  {
   "cell_type": "code",
   "execution_count": 26,
   "metadata": {
    "colab": {
     "base_uri": "https://localhost:8080/"
    },
    "id": "Ko0g_byzFtVW",
    "outputId": "35da2382-7851-4ada-96f2-98d6744dacb0"
   },
   "outputs": [
    {
     "name": "stdout",
     "output_type": "stream",
     "text": [
      "INFO:tensorflow:Assets written to: saved_model/base_model\\assets\n"
     ]
    }
   ],
   "source": [
    "# Save the entire model as a SavedModel.\n",
    "!mkdir -p saved_model\n",
    "base_model.save('saved_model/base_model') "
   ]
  }
 ],
 "metadata": {
  "colab": {
   "collapsed_sections": [],
   "name": "Kickstarter EDA.ipynb",
   "provenance": []
  },
  "interpreter": {
   "hash": "b6aa737f36c5d93b6cbe8b742cd1c1391a187201e6ed0bc134578f07fcbe3de9"
  },
  "kernelspec": {
   "display_name": "Python 3",
   "language": "python",
   "name": "python3"
  },
  "language_info": {
   "codemirror_mode": {
    "name": "ipython",
    "version": 3
   },
   "file_extension": ".py",
   "mimetype": "text/x-python",
   "name": "python",
   "nbconvert_exporter": "python",
   "pygments_lexer": "ipython3",
   "version": "3.9.5"
  }
 },
 "nbformat": 4,
 "nbformat_minor": 2
}
