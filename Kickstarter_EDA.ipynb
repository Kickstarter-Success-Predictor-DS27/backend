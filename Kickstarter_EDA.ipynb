{
 "cells": [
  {
   "cell_type": "code",
   "execution_count": 170,
   "source": [
    "# !pip install catboost"
   ],
   "outputs": [],
   "metadata": {}
  },
  {
   "cell_type": "code",
   "execution_count": 171,
   "source": [
    "import pandas as pd\r\n",
    "import sys\r\n",
    "# from google.colab import files\r\n",
    "# import io \r\n",
    "import re\r\n",
    "import datetime\r\n",
    "import ast\r\n",
    "\r\n",
    "from sklearn.model_selection import train_test_split\r\n",
    "\r\n",
    "# df = pd.read_csv(\"Kickstarter.csv\")\r\n",
    "\r\n",
    "\"\"\"\r\n",
    "The dataset can be found here:\r\n",
    "https://webrobots.io/kickstarter-datasets/\r\n",
    "https://s3.amazonaws.com/weruns/forfun/Kickstarter/Kickstarter_2021-06-17T03_20_03_179Z.zip\r\n",
    "\"\"\""
   ],
   "outputs": [
    {
     "output_type": "execute_result",
     "data": {
      "text/plain": [
       "'\\nThe dataset can be found here:\\nhttps://webrobots.io/kickstarter-datasets/\\nhttps://s3.amazonaws.com/weruns/forfun/Kickstarter/Kickstarter_2021-06-17T03_20_03_179Z.zip\\n'"
      ]
     },
     "metadata": {},
     "execution_count": 171
    }
   ],
   "metadata": {
    "colab": {
     "base_uri": "https://localhost:8080/",
     "height": 35
    },
    "id": "icYGYXF4PoZp",
    "outputId": "47cb2af6-3cab-489a-9b7c-32534cf54eb8"
   }
  },
  {
   "cell_type": "code",
   "execution_count": 172,
   "source": [
    "# df = df.drop(columns=[\"currency_symbol\",\r\n",
    "#                  \"country_displayable_name\",\r\n",
    "#                  \"created_at\",\r\n",
    "#                  \"creator\",\r\n",
    "#                  \"country\",\r\n",
    "#                  \"urls\",\r\n",
    "#                  \"currency_trailing_code\",\r\n",
    "#                  \"friends\",\r\n",
    "#                  \"fx_rate\",\r\n",
    "#                  \"id\",\r\n",
    "#                  \"is_starred\",\r\n",
    "#                  \"name\",\r\n",
    "#                  \"permissions\"], axis = 1)"
   ],
   "outputs": [],
   "metadata": {
    "id": "QHXaTLJbZXZs"
   }
  },
  {
   "cell_type": "code",
   "execution_count": 173,
   "source": [
    "# df.head(3)"
   ],
   "outputs": [],
   "metadata": {
    "colab": {
     "base_uri": "https://localhost:8080/",
     "height": 400
    },
    "id": "QITHKpKBUZ1b",
    "outputId": "dcd937fa-d879-4e99-d0b4-30dc8fcda1dd"
   }
  },
  {
   "cell_type": "markdown",
   "source": [
    "Do we want to combine find the length of the campaign from (created at and deadline) to see if there is value there. \n",
    "\n",
    "keep location, clean and ckeep city name\n",
    "\n"
   ],
   "metadata": {
    "id": "jTVsN6ZQViwt"
   }
  },
  {
   "cell_type": "code",
   "execution_count": 174,
   "source": [
    "# def clean_data(text):\r\n",
    "#     email_regex = r\"\\S*@\\S*\\s?\"\r\n",
    "#     non_alpha = \"[^a-zA-Z0-9 ]\"\r\n",
    "#     multi_white_spaces = \"[ ]{2,}\"\r\n",
    "#     text = re.sub(email_regex, \"\", text)\r\n",
    "#     text = re.sub(non_alpha, \"\", text)\r\n",
    "#     text = re.sub(multi_white_spaces, \"\", text)\r\n",
    "#     return text.lower().lstrip().rstrip()"
   ],
   "outputs": [],
   "metadata": {
    "id": "Yu1Y5CaQSpJ8"
   }
  },
  {
   "cell_type": "markdown",
   "source": [
    "# Load The Dataset"
   ],
   "metadata": {
    "id": "XjRPDmIsQB-M"
   }
  },
  {
   "cell_type": "code",
   "execution_count": 175,
   "source": [
    "# file_path = 'Downloads/Kickstarter_2021-06-17T03_20_03_179Z/Kickstarter001.csv'\r\n",
    "file_path = \"Kickstarter.csv\"\r\n",
    "# file_path_small_test = 'small_file.csv'\r\n",
    "\r\n",
    "\r\n",
    "def clean_data(file_path):\r\n",
    "    df = pd.read_csv(file_path)\r\n",
    "    \r\n",
    "    def change_to_time_series(item):\r\n",
    "        item = datetime.datetime.fromtimestamp(item)\r\n",
    "        return item\r\n",
    "    \r\n",
    "    # change the 'created-at', 'deadline', 'state_changed_at' columns\r\n",
    "    # to time series columns\r\n",
    "    time_series_columns = ['created_at', 'deadline', 'state_changed_at', 'launched_at']\r\n",
    "    for column in time_series_columns:\r\n",
    "        df[column] = df[column].apply(change_to_time_series)\r\n",
    "    \r\n",
    "    # dropping columns with all null values\r\n",
    "    # for reference these the column names:\r\n",
    "    # ['friends', 'is_backing', 'is_starred', 'permissions']\r\n",
    "    all_null_columns = df.isnull().sum() == len(df)\r\n",
    "#     to_drop = all_null_columns[all_null_columns == True].index\r\n",
    "    to_drop = ['friends', 'is_backing', 'is_starred', 'permissions']\r\n",
    "    df = df.drop(columns=to_drop, axis=1)\r\n",
    "    \r\n",
    "    df = df.drop(columns=[\"currency_symbol\",\r\n",
    "                          \"country_displayable_name\",\r\n",
    "                          \"creator\",\r\n",
    "                          \"country\",\r\n",
    "                          \"urls\",\r\n",
    "                          \"source_url\",\r\n",
    "                          \"currency_trailing_code\",\r\n",
    "                          \"fx_rate\",\r\n",
    "                          \"id\",\r\n",
    "                          \"name\",\r\n",
    "                          \"disable_communication\",\r\n",
    "                          \"photo\", # has url for photos might be useful later \r\n",
    "                          \"usd_type\", \r\n",
    "                          'converted_pledged_amount',\r\n",
    "                          'pledged',\r\n",
    "                          'usd_exchange_rate',\r\n",
    "                          'static_usd_rate',\r\n",
    "                          'currency', # dropping due to have pledged in USD\r\n",
    "                          'current_currency'  # dropping due to have pledged in USD\r\n",
    "                         ], axis=1)\r\n",
    "    \r\n",
    "    def extract_dictionary_info(item):\r\n",
    "        \"\"\" Use the apply method with the column name.\r\n",
    "        Takes in dictionary in string form,\r\n",
    "        converts it into a dictionary, and\r\n",
    "        returns info_type requested in a new column.\r\n",
    "        \"\"\"\r\n",
    "        my_dic = ast.literal_eval(item)\r\n",
    "        return my_dic\r\n",
    "\r\n",
    "    cat_df = df['category'].apply(extract_dictionary_info).apply(pd.Series)\r\n",
    "    cat_df['parent_name'].loc[(cat_df.parent_name.isnull() == True)& (cat_df['name'] == 'Dance')] = 'Dance'\r\n",
    "    cat_df['parent_name'].loc[(cat_df.parent_name.isnull() == True)& (cat_df['name'] == 'Photography')] = 'Photography'\r\n",
    "    cat_df['parent_name'].loc[(cat_df.parent_name.isnull() == True)& (cat_df['name'] == 'Games')] = 'Games'\r\n",
    "    \r\n",
    "    df['category_2'] = cat_df.parent_name    \r\n",
    "    df = pd.concat([df,pd.get_dummies(df['category_2'], dtype = float)], axis=1)\r\n",
    "    df.drop(columns=['category', 'category_2'], inplace=True)\r\n",
    "    \r\n",
    "    # columns I can't get to work\r\n",
    "    # in dictionary format need to work on OR text data\r\n",
    "    # text_data need to vectorize: 'blurb\r\n",
    "    drop_for_now = ['blurb', 'location', 'profile', 'slug']\r\n",
    "    df.drop(columns=drop_for_now, inplace=True)\r\n",
    "    \r\n",
    "    \r\n",
    "    # creating our target variable, we had the four sub-categories:\r\n",
    "    # successful, failed, canceled, live\r\n",
    "    # turn it into a binary variable\r\n",
    "    df['target'] = 0\r\n",
    "    df['target'].loc[df.state == 'successful'] = 1\r\n",
    "    df.drop(columns='state', inplace=True)\r\n",
    "    \r\n",
    "    # changing boolean to integers\r\n",
    "    df['spotlight_2'] = 0\r\n",
    "    df['spotlight_2'].loc[df.spotlight == True] = 1\r\n",
    "\r\n",
    "    df['staff_pick_2'] = 0\r\n",
    "    df['staff_pick_2'].loc[df.staff_pick == True] = 1\r\n",
    "\r\n",
    "    df['is_starrable_2'] = 0\r\n",
    "    df['is_starrable_2'].loc[df.is_starrable == True] = 1\r\n",
    "    df.drop(columns=['spotlight', 'staff_pick', 'is_starrable', \"spotlight_2\", \"backers_count\"],\r\n",
    "           inplace=True)\r\n",
    "\r\n",
    "\r\n",
    "    \r\n",
    "    # removing the launched_at and state_changed_at time series columns\r\n",
    "    # add at your discretion\r\n",
    "    time_series = ['created_at', 'deadline','state_changed_at', 'launched_at', \"usd_pledged\"] # Drop USD pledged for leakage, duh \r\n",
    "    df.drop(columns=time_series, inplace=True)\r\n",
    "    \r\n",
    "    \r\n",
    "    return df"
   ],
   "outputs": [],
   "metadata": {
    "id": "TzIPTv0nQD4G"
   }
  },
  {
   "cell_type": "code",
   "execution_count": 176,
   "source": [
    "# Reading in the data and passing through the cleaning function\r\n",
    "df = clean_data(file_path)\r\n",
    "# df = clean_data(file_path_small_test)\r\n",
    "df.head(3)\r\n"
   ],
   "outputs": [
    {
     "output_type": "stream",
     "name": "stderr",
     "text": [
      "C:\\Users\\iankn\\AppData\\Local\\Programs\\Python\\Python39\\lib\\site-packages\\pandas\\core\\indexing.py:1637: SettingWithCopyWarning: \n",
      "A value is trying to be set on a copy of a slice from a DataFrame\n",
      "\n",
      "See the caveats in the documentation: https://pandas.pydata.org/pandas-docs/stable/user_guide/indexing.html#returning-a-view-versus-a-copy\n",
      "  self._setitem_single_block(indexer, value, name)\n",
      "C:\\Users\\iankn\\AppData\\Local\\Programs\\Python\\Python39\\lib\\site-packages\\pandas\\core\\indexing.py:1637: SettingWithCopyWarning: \n",
      "A value is trying to be set on a copy of a slice from a DataFrame\n",
      "\n",
      "See the caveats in the documentation: https://pandas.pydata.org/pandas-docs/stable/user_guide/indexing.html#returning-a-view-versus-a-copy\n",
      "  self._setitem_single_block(indexer, value, name)\n",
      "C:\\Users\\iankn\\AppData\\Local\\Programs\\Python\\Python39\\lib\\site-packages\\pandas\\core\\indexing.py:1637: SettingWithCopyWarning: \n",
      "A value is trying to be set on a copy of a slice from a DataFrame\n",
      "\n",
      "See the caveats in the documentation: https://pandas.pydata.org/pandas-docs/stable/user_guide/indexing.html#returning-a-view-versus-a-copy\n",
      "  self._setitem_single_block(indexer, value, name)\n",
      "C:\\Users\\iankn\\AppData\\Local\\Programs\\Python\\Python39\\lib\\site-packages\\pandas\\core\\indexing.py:1637: SettingWithCopyWarning: \n",
      "A value is trying to be set on a copy of a slice from a DataFrame\n",
      "\n",
      "See the caveats in the documentation: https://pandas.pydata.org/pandas-docs/stable/user_guide/indexing.html#returning-a-view-versus-a-copy\n",
      "  self._setitem_single_block(indexer, value, name)\n",
      "C:\\Users\\iankn\\AppData\\Local\\Programs\\Python\\Python39\\lib\\site-packages\\pandas\\core\\indexing.py:1637: SettingWithCopyWarning: \n",
      "A value is trying to be set on a copy of a slice from a DataFrame\n",
      "\n",
      "See the caveats in the documentation: https://pandas.pydata.org/pandas-docs/stable/user_guide/indexing.html#returning-a-view-versus-a-copy\n",
      "  self._setitem_single_block(indexer, value, name)\n",
      "C:\\Users\\iankn\\AppData\\Local\\Programs\\Python\\Python39\\lib\\site-packages\\pandas\\core\\indexing.py:1637: SettingWithCopyWarning: \n",
      "A value is trying to be set on a copy of a slice from a DataFrame\n",
      "\n",
      "See the caveats in the documentation: https://pandas.pydata.org/pandas-docs/stable/user_guide/indexing.html#returning-a-view-versus-a-copy\n",
      "  self._setitem_single_block(indexer, value, name)\n"
     ]
    },
    {
     "output_type": "execute_result",
     "data": {
      "text/plain": [
       "      goal  Dance  Fashion  Film & Video  Games  target  staff_pick_2  \\\n",
       "0  15000.0    0.0      0.0           0.0    1.0       0             0   \n",
       "1  10000.0    0.0      0.0           1.0    0.0       1             0   \n",
       "2   3000.0    1.0      0.0           0.0    0.0       1             0   \n",
       "\n",
       "   is_starrable_2  \n",
       "0               1  \n",
       "1               0  \n",
       "2               0  "
      ],
      "text/html": [
       "<div>\n",
       "<style scoped>\n",
       "    .dataframe tbody tr th:only-of-type {\n",
       "        vertical-align: middle;\n",
       "    }\n",
       "\n",
       "    .dataframe tbody tr th {\n",
       "        vertical-align: top;\n",
       "    }\n",
       "\n",
       "    .dataframe thead th {\n",
       "        text-align: right;\n",
       "    }\n",
       "</style>\n",
       "<table border=\"1\" class=\"dataframe\">\n",
       "  <thead>\n",
       "    <tr style=\"text-align: right;\">\n",
       "      <th></th>\n",
       "      <th>goal</th>\n",
       "      <th>Dance</th>\n",
       "      <th>Fashion</th>\n",
       "      <th>Film &amp; Video</th>\n",
       "      <th>Games</th>\n",
       "      <th>target</th>\n",
       "      <th>staff_pick_2</th>\n",
       "      <th>is_starrable_2</th>\n",
       "    </tr>\n",
       "  </thead>\n",
       "  <tbody>\n",
       "    <tr>\n",
       "      <th>0</th>\n",
       "      <td>15000.0</td>\n",
       "      <td>0.0</td>\n",
       "      <td>0.0</td>\n",
       "      <td>0.0</td>\n",
       "      <td>1.0</td>\n",
       "      <td>0</td>\n",
       "      <td>0</td>\n",
       "      <td>1</td>\n",
       "    </tr>\n",
       "    <tr>\n",
       "      <th>1</th>\n",
       "      <td>10000.0</td>\n",
       "      <td>0.0</td>\n",
       "      <td>0.0</td>\n",
       "      <td>1.0</td>\n",
       "      <td>0.0</td>\n",
       "      <td>1</td>\n",
       "      <td>0</td>\n",
       "      <td>0</td>\n",
       "    </tr>\n",
       "    <tr>\n",
       "      <th>2</th>\n",
       "      <td>3000.0</td>\n",
       "      <td>1.0</td>\n",
       "      <td>0.0</td>\n",
       "      <td>0.0</td>\n",
       "      <td>0.0</td>\n",
       "      <td>1</td>\n",
       "      <td>0</td>\n",
       "      <td>0</td>\n",
       "    </tr>\n",
       "  </tbody>\n",
       "</table>\n",
       "</div>"
      ]
     },
     "metadata": {},
     "execution_count": 176
    }
   ],
   "metadata": {
    "colab": {
     "base_uri": "https://localhost:8080/",
     "height": 667
    },
    "id": "up6Gp1DNlSbf",
    "outputId": "3590996f-1970-4555-f070-557653e283f6"
   }
  },
  {
   "cell_type": "code",
   "execution_count": 177,
   "source": [
    "df.info()"
   ],
   "outputs": [
    {
     "output_type": "stream",
     "name": "stdout",
     "text": [
      "<class 'pandas.core.frame.DataFrame'>\n",
      "RangeIndex: 3662 entries, 0 to 3661\n",
      "Data columns (total 8 columns):\n",
      " #   Column          Non-Null Count  Dtype  \n",
      "---  ------          --------------  -----  \n",
      " 0   goal            3662 non-null   float64\n",
      " 1   Dance           3662 non-null   float64\n",
      " 2   Fashion         3662 non-null   float64\n",
      " 3   Film & Video    3662 non-null   float64\n",
      " 4   Games           3662 non-null   float64\n",
      " 5   target          3662 non-null   int64  \n",
      " 6   staff_pick_2    3662 non-null   int64  \n",
      " 7   is_starrable_2  3662 non-null   int64  \n",
      "dtypes: float64(5), int64(3)\n",
      "memory usage: 229.0 KB\n"
     ]
    }
   ],
   "metadata": {
    "colab": {
     "base_uri": "https://localhost:8080/"
    },
    "id": "e4cw4lwL5ekV",
    "outputId": "8931abb1-0b73-4349-b3a0-4f36311f4a14"
   }
  },
  {
   "cell_type": "markdown",
   "source": [
    "# Split the Data"
   ],
   "metadata": {
    "id": "KF0vaA-RJv_f"
   }
  },
  {
   "cell_type": "code",
   "execution_count": 178,
   "source": [
    "df.corr()"
   ],
   "outputs": [
    {
     "output_type": "execute_result",
     "data": {
      "text/plain": [
       "                    goal     Dance   Fashion  Film & Video     Games  \\\n",
       "goal            1.000000 -0.027358 -0.016564      0.050612 -0.011118   \n",
       "Dance          -0.027358  1.000000 -0.281510     -0.436077 -0.368743   \n",
       "Fashion        -0.016564 -0.281510  1.000000     -0.282603 -0.238966   \n",
       "Film & Video    0.050612 -0.436077 -0.282603      1.000000 -0.370174   \n",
       "Games          -0.011118 -0.368743 -0.238966     -0.370174  1.000000   \n",
       "target         -0.056292  0.239547 -0.337926      0.070525 -0.048008   \n",
       "staff_pick_2   -0.010174  0.208503 -0.157599      0.026574 -0.119936   \n",
       "is_starrable_2 -0.005652 -0.148809 -0.088135     -0.144157  0.390873   \n",
       "\n",
       "                  target  staff_pick_2  is_starrable_2  \n",
       "goal           -0.056292     -0.010174       -0.005652  \n",
       "Dance           0.239547      0.208503       -0.148809  \n",
       "Fashion        -0.337926     -0.157599       -0.088135  \n",
       "Film & Video    0.070525      0.026574       -0.144157  \n",
       "Games          -0.048008     -0.119936        0.390873  \n",
       "target          1.000000      0.215234       -0.356878  \n",
       "staff_pick_2    0.215234      1.000000       -0.058831  \n",
       "is_starrable_2 -0.356878     -0.058831        1.000000  "
      ],
      "text/html": [
       "<div>\n",
       "<style scoped>\n",
       "    .dataframe tbody tr th:only-of-type {\n",
       "        vertical-align: middle;\n",
       "    }\n",
       "\n",
       "    .dataframe tbody tr th {\n",
       "        vertical-align: top;\n",
       "    }\n",
       "\n",
       "    .dataframe thead th {\n",
       "        text-align: right;\n",
       "    }\n",
       "</style>\n",
       "<table border=\"1\" class=\"dataframe\">\n",
       "  <thead>\n",
       "    <tr style=\"text-align: right;\">\n",
       "      <th></th>\n",
       "      <th>goal</th>\n",
       "      <th>Dance</th>\n",
       "      <th>Fashion</th>\n",
       "      <th>Film &amp; Video</th>\n",
       "      <th>Games</th>\n",
       "      <th>target</th>\n",
       "      <th>staff_pick_2</th>\n",
       "      <th>is_starrable_2</th>\n",
       "    </tr>\n",
       "  </thead>\n",
       "  <tbody>\n",
       "    <tr>\n",
       "      <th>goal</th>\n",
       "      <td>1.000000</td>\n",
       "      <td>-0.027358</td>\n",
       "      <td>-0.016564</td>\n",
       "      <td>0.050612</td>\n",
       "      <td>-0.011118</td>\n",
       "      <td>-0.056292</td>\n",
       "      <td>-0.010174</td>\n",
       "      <td>-0.005652</td>\n",
       "    </tr>\n",
       "    <tr>\n",
       "      <th>Dance</th>\n",
       "      <td>-0.027358</td>\n",
       "      <td>1.000000</td>\n",
       "      <td>-0.281510</td>\n",
       "      <td>-0.436077</td>\n",
       "      <td>-0.368743</td>\n",
       "      <td>0.239547</td>\n",
       "      <td>0.208503</td>\n",
       "      <td>-0.148809</td>\n",
       "    </tr>\n",
       "    <tr>\n",
       "      <th>Fashion</th>\n",
       "      <td>-0.016564</td>\n",
       "      <td>-0.281510</td>\n",
       "      <td>1.000000</td>\n",
       "      <td>-0.282603</td>\n",
       "      <td>-0.238966</td>\n",
       "      <td>-0.337926</td>\n",
       "      <td>-0.157599</td>\n",
       "      <td>-0.088135</td>\n",
       "    </tr>\n",
       "    <tr>\n",
       "      <th>Film &amp; Video</th>\n",
       "      <td>0.050612</td>\n",
       "      <td>-0.436077</td>\n",
       "      <td>-0.282603</td>\n",
       "      <td>1.000000</td>\n",
       "      <td>-0.370174</td>\n",
       "      <td>0.070525</td>\n",
       "      <td>0.026574</td>\n",
       "      <td>-0.144157</td>\n",
       "    </tr>\n",
       "    <tr>\n",
       "      <th>Games</th>\n",
       "      <td>-0.011118</td>\n",
       "      <td>-0.368743</td>\n",
       "      <td>-0.238966</td>\n",
       "      <td>-0.370174</td>\n",
       "      <td>1.000000</td>\n",
       "      <td>-0.048008</td>\n",
       "      <td>-0.119936</td>\n",
       "      <td>0.390873</td>\n",
       "    </tr>\n",
       "    <tr>\n",
       "      <th>target</th>\n",
       "      <td>-0.056292</td>\n",
       "      <td>0.239547</td>\n",
       "      <td>-0.337926</td>\n",
       "      <td>0.070525</td>\n",
       "      <td>-0.048008</td>\n",
       "      <td>1.000000</td>\n",
       "      <td>0.215234</td>\n",
       "      <td>-0.356878</td>\n",
       "    </tr>\n",
       "    <tr>\n",
       "      <th>staff_pick_2</th>\n",
       "      <td>-0.010174</td>\n",
       "      <td>0.208503</td>\n",
       "      <td>-0.157599</td>\n",
       "      <td>0.026574</td>\n",
       "      <td>-0.119936</td>\n",
       "      <td>0.215234</td>\n",
       "      <td>1.000000</td>\n",
       "      <td>-0.058831</td>\n",
       "    </tr>\n",
       "    <tr>\n",
       "      <th>is_starrable_2</th>\n",
       "      <td>-0.005652</td>\n",
       "      <td>-0.148809</td>\n",
       "      <td>-0.088135</td>\n",
       "      <td>-0.144157</td>\n",
       "      <td>0.390873</td>\n",
       "      <td>-0.356878</td>\n",
       "      <td>-0.058831</td>\n",
       "      <td>1.000000</td>\n",
       "    </tr>\n",
       "  </tbody>\n",
       "</table>\n",
       "</div>"
      ]
     },
     "metadata": {},
     "execution_count": 178
    }
   ],
   "metadata": {}
  },
  {
   "cell_type": "code",
   "execution_count": 179,
   "source": [
    "# Split the data to avoid leakage\r\n",
    "x = df.drop(columns=['target'])\r\n",
    "y = df['target']"
   ],
   "outputs": [],
   "metadata": {
    "id": "7UmTtGbxg08v"
   }
  },
  {
   "cell_type": "code",
   "execution_count": 180,
   "source": [
    "# Create a training and validation set\r\n",
    "# Smaller test size is acceptable due to the amount of data available\r\n",
    "X_train, X_val, y_train, y_val = train_test_split(x, y, test_size=.1, random_state=42)\r\n",
    "\r\n",
    "print('x_train:', len(X_train))\r\n",
    "print('x_val:', len(X_val))\r\n",
    "print('y_train:',y_train.shape)\r\n",
    "print('y_val:', y_val.shape)"
   ],
   "outputs": [
    {
     "output_type": "stream",
     "name": "stdout",
     "text": [
      "x_train: 3295\n",
      "x_val: 367\n",
      "y_train: (3295,)\n",
      "y_val: (367,)\n"
     ]
    }
   ],
   "metadata": {
    "colab": {
     "base_uri": "https://localhost:8080/"
    },
    "id": "FyOxMKfPhKMP",
    "outputId": "3ed5e817-7aa6-4b67-a621-e97a2eef56e8"
   }
  },
  {
   "cell_type": "markdown",
   "source": [
    "# Set Model Baseline"
   ],
   "metadata": {}
  },
  {
   "cell_type": "code",
   "execution_count": 195,
   "source": [
    "baseline = y_train.value_counts(normalize = True).max()\r\n",
    "print(\"The baseline score for our dataset is:\", baseline)"
   ],
   "outputs": [
    {
     "output_type": "stream",
     "name": "stdout",
     "text": [
      "The baseline score for our dataset is: 0.6937784522003035\n"
     ]
    }
   ],
   "metadata": {}
  },
  {
   "cell_type": "markdown",
   "source": [
    "# Explore Models"
   ],
   "metadata": {
    "id": "_Nig3MQQ50lq"
   }
  },
  {
   "cell_type": "code",
   "execution_count": 181,
   "source": [
    "from tensorflow.keras import Sequential\r\n",
    "from tensorflow.keras.layers import Dense, ReLU\r\n",
    "from tensorflow.keras.callbacks import TensorBoard\r\n",
    "\r\n",
    "from sklearn.model_selection import GridSearchCV\r\n",
    "from tensorflow.keras.models import Sequential\r\n",
    "from tensorflow.keras.layers import Dense\r\n",
    "\r\n",
    "# required for compatibility bewteen sklearn and keras\r\n",
    "from tensorflow.keras.wrappers.scikit_learn import KerasClassifier"
   ],
   "outputs": [],
   "metadata": {
    "id": "xVyAyWdY6eXN"
   }
  },
  {
   "cell_type": "markdown",
   "source": [
    "## Configure a Neural Network ##"
   ],
   "metadata": {}
  },
  {
   "cell_type": "code",
   "execution_count": 182,
   "source": [
    "# Define input dimensions to avoid hidden layer issues\r\n",
    "input_dims = X_train.shape[1]\r\n",
    "input_dims"
   ],
   "outputs": [
    {
     "output_type": "execute_result",
     "data": {
      "text/plain": [
       "7"
      ]
     },
     "metadata": {},
     "execution_count": 182
    }
   ],
   "metadata": {
    "id": "a3dwFJZ-6Hp2"
   }
  },
  {
   "cell_type": "markdown",
   "source": [
    "## Create Model Function ##\n",
    "This function should help you save time on creating more models."
   ],
   "metadata": {
    "id": "Cl3S1NVq8gQo"
   }
  },
  {
   "cell_type": "code",
   "execution_count": 183,
   "source": [
    "# Function to create model, required for KerasClassifier\r\n",
    "def create_model(units = 128, optimizer = \"adam\", activation = \"sigmoid\"):\r\n",
    "    \"\"\"\"\r\n",
    "    Returns a complied keras model \r\n",
    "    \r\n",
    "    Parameters\r\n",
    "    ----------\r\n",
    "    units: int \r\n",
    "        number of neruons/nodes/units to use in each hidden layer\r\n",
    "        \r\n",
    "    Returns\r\n",
    "    -------\r\n",
    "    model: keras object \r\n",
    "    \"\"\"\r\n",
    "\r\n",
    "    model = Sequential()\r\n",
    "    model.add(Dense(units = 64, input_dim = input_dims, activation = activation))\r\n",
    "    model.add(Dense(units = 32, activation = activation))\r\n",
    "    model.add(Dense(units = 10, activation = activation))   \r\n",
    "    model.add(Dense(1, activation=\"sigmoid\")) # USE SIGMOID FOR BINARY CLASSIFICATION\r\n",
    "    model.compile(loss=\"binary_crossentropy\",\r\n",
    "                    optimizer = \"adam\",\r\n",
    "                    metrics=[\"accuracy\"])\r\n",
    "    return model"
   ],
   "outputs": [],
   "metadata": {
    "id": "fLuqTrOY7zce"
   }
  },
  {
   "cell_type": "code",
   "execution_count": 184,
   "source": [
    "# Instantiate a base model for grid search\r\n",
    "base_model = KerasClassifier(build_fn = create_model)"
   ],
   "outputs": [],
   "metadata": {
    "id": "d0QkGvHp5ghF"
   }
  },
  {
   "cell_type": "markdown",
   "source": [
    "### Perform a Grid Search To Optimize Our Model "
   ],
   "metadata": {
    "id": "8ZUrJjdY9h5f"
   }
  },
  {
   "cell_type": "code",
   "execution_count": 185,
   "source": [
    "# define the grid search parameters\r\n",
    "param_grid = {'batch_size': [32],\r\n",
    "              'epochs': [3],\r\n",
    "              'units':[32, 64]}"
   ],
   "outputs": [],
   "metadata": {
    "id": "vJ8zWJoB7PA9"
   }
  },
  {
   "cell_type": "code",
   "execution_count": 186,
   "source": [
    "# Create Grid Search\r\n",
    "grid = GridSearchCV(estimator = base_model,\r\n",
    "                    param_grid = param_grid, \r\n",
    "                    n_jobs=-2, \r\n",
    "                    verbose=1, \r\n",
    "                    cv=3)\r\n",
    "grid_result = grid.fit(X_train, y_train)\r\n",
    "\r\n",
    "# Report Results\r\n",
    "print(f\"Best: {grid_result.best_score_} using {grid_result.best_params_}\")\r\n",
    "means = grid_result.cv_results_['mean_test_score']\r\n",
    "stds = grid_result.cv_results_['std_test_score']\r\n",
    "params = grid_result.cv_results_['params']\r\n",
    "for mean, stdev, param in zip(means, stds, params):\r\n",
    "    print(f\"Means: {mean}, Stdev: {stdev} with: {param}\")"
   ],
   "outputs": [
    {
     "output_type": "stream",
     "name": "stdout",
     "text": [
      "Fitting 3 folds for each of 2 candidates, totalling 6 fits\n",
      "Epoch 1/3\n",
      "103/103 [==============================] - 0s 823us/step - loss: 0.6272 - accuracy: 0.6938\n",
      "Epoch 2/3\n",
      "103/103 [==============================] - 0s 804us/step - loss: 0.6168 - accuracy: 0.6938\n",
      "Epoch 3/3\n",
      "103/103 [==============================] - 0s 814us/step - loss: 0.6166 - accuracy: 0.6938\n",
      "Best: 0.693780243396759 using {'batch_size': 32, 'epochs': 3, 'units': 32}\n",
      "Means: 0.693780243396759, Stdev: 0.004719796940551231 with: {'batch_size': 32, 'epochs': 3, 'units': 32}\n",
      "Means: 0.693780243396759, Stdev: 0.004719796940551231 with: {'batch_size': 32, 'epochs': 3, 'units': 64}\n"
     ]
    }
   ],
   "metadata": {
    "colab": {
     "base_uri": "https://localhost:8080/"
    },
    "id": "4dzihfCv-IRC",
    "outputId": "b98811cf-61b4-4dc2-80d8-4521bb3658d6"
   }
  },
  {
   "cell_type": "code",
   "execution_count": 187,
   "source": [
    "# Assign the best model \r\n",
    "best_nn_model = grid_result.best_estimator_\r\n",
    "# Confirm the models params\r\n",
    "best_nn_model.get_params()"
   ],
   "outputs": [
    {
     "output_type": "execute_result",
     "data": {
      "text/plain": [
       "{'batch_size': 32,\n",
       " 'epochs': 3,\n",
       " 'units': 32,\n",
       " 'build_fn': <function __main__.create_model(units=128, optimizer='adam', activation='sigmoid')>}"
      ]
     },
     "metadata": {},
     "execution_count": 187
    }
   ],
   "metadata": {
    "colab": {
     "base_uri": "https://localhost:8080/"
    },
    "id": "u8gyYa85EZJe",
    "outputId": "f8515294-13cc-4c34-aa77-ba9f5a740c86"
   }
  },
  {
   "cell_type": "code",
   "execution_count": 188,
   "source": [
    "    best_nn_model.fit(X_train, \r\n",
    "                        y_train, \r\n",
    "                        validation_data = (X_val,y_val),\r\n",
    "                        verbose=2)"
   ],
   "outputs": [
    {
     "output_type": "stream",
     "name": "stdout",
     "text": [
      "Epoch 1/3\n",
      "103/103 - 1s - loss: 0.8463 - accuracy: 0.3193 - val_loss: 0.6906 - val_accuracy: 0.6676\n",
      "Epoch 2/3\n",
      "103/103 - 0s - loss: 0.6622 - accuracy: 0.6938 - val_loss: 0.6486 - val_accuracy: 0.6812\n",
      "Epoch 3/3\n",
      "103/103 - 0s - loss: 0.6361 - accuracy: 0.6938 - val_loss: 0.6356 - val_accuracy: 0.6812\n"
     ]
    },
    {
     "output_type": "execute_result",
     "data": {
      "text/plain": [
       "<tensorflow.python.keras.callbacks.History at 0x23c3f824d60>"
      ]
     },
     "metadata": {},
     "execution_count": 188
    }
   ],
   "metadata": {}
  },
  {
   "cell_type": "markdown",
   "source": [
    "### Check the models scores"
   ],
   "metadata": {}
  },
  {
   "cell_type": "code",
   "execution_count": 189,
   "source": [
    "best_nn_model_val_score = best_nn_model.score(X_val,y_val)\r\n",
    "print(\"The best NN model validation score is:\", best_nn_model_val_score)"
   ],
   "outputs": [
    {
     "output_type": "stream",
     "name": "stdout",
     "text": [
      "12/12 [==============================] - 0s 818us/step - loss: 0.6356 - accuracy: 0.6812\n",
      "The best NN model validation score is: 0.6811988949775696\n"
     ]
    }
   ],
   "metadata": {}
  },
  {
   "cell_type": "markdown",
   "source": [
    "# Create A Classifier Model \r\n",
    "Compare this model with our NN"
   ],
   "metadata": {}
  },
  {
   "cell_type": "code",
   "execution_count": 190,
   "source": [
    "from sklearn.ensemble import RandomForestClassifier\r\n",
    "from sklearn.pipeline import make_pipeline"
   ],
   "outputs": [],
   "metadata": {}
  },
  {
   "cell_type": "code",
   "execution_count": 191,
   "source": [
    "clf_model = make_pipeline(\r\n",
    "                        RandomForestClassifier(\r\n",
    "                                                random_state= 42,\r\n",
    "                                                ))\r\n",
    "\r\n",
    "clf_model.fit(X_train, y_train)"
   ],
   "outputs": [
    {
     "output_type": "execute_result",
     "data": {
      "text/plain": [
       "Pipeline(steps=[('randomforestclassifier',\n",
       "                 RandomForestClassifier(random_state=42))])"
      ]
     },
     "metadata": {},
     "execution_count": 191
    }
   ],
   "metadata": {}
  },
  {
   "cell_type": "markdown",
   "source": [
    "### Check the CLF models score"
   ],
   "metadata": {}
  },
  {
   "cell_type": "code",
   "execution_count": 192,
   "source": [
    "clf_model_val_score = clf_model.score(X_val,y_val)\r\n",
    "print(\"The best CLF model validation score is:\", clf_model_val_score)"
   ],
   "outputs": [
    {
     "output_type": "stream",
     "name": "stdout",
     "text": [
      "The best CLF model validation score is: 0.773841961852861\n"
     ]
    }
   ],
   "metadata": {}
  },
  {
   "cell_type": "code",
   "execution_count": 193,
   "source": [
    "# # Save the entire model as a SavedModel.\r\n",
    "# !mkdir -p saved_model\r\n",
    "# base_model.save('saved_model/base_model') "
   ],
   "outputs": [],
   "metadata": {
    "colab": {
     "base_uri": "https://localhost:8080/"
    },
    "id": "Ko0g_byzFtVW",
    "outputId": "35da2382-7851-4ada-96f2-98d6744dacb0"
   }
  }
 ],
 "metadata": {
  "colab": {
   "collapsed_sections": [],
   "name": "Kickstarter EDA.ipynb",
   "provenance": []
  },
  "interpreter": {
   "hash": "b6aa737f36c5d93b6cbe8b742cd1c1391a187201e6ed0bc134578f07fcbe3de9"
  },
  "kernelspec": {
   "name": "python3",
   "display_name": "Python 3.9.2 64-bit"
  },
  "language_info": {
   "codemirror_mode": {
    "name": "ipython",
    "version": 3
   },
   "file_extension": ".py",
   "mimetype": "text/x-python",
   "name": "python",
   "nbconvert_exporter": "python",
   "pygments_lexer": "ipython3",
   "version": "3.9.2"
  }
 },
 "nbformat": 4,
 "nbformat_minor": 2
}